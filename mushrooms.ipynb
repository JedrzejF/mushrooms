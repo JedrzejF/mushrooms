{
 "cells": [
  {
   "cell_type": "code",
   "execution_count": 8,
   "metadata": {},
   "outputs": [
    {
     "name": "stderr",
     "output_type": "stream",
     "text": [
      "C:\\Users\\jedrz\\Anaconda3\\lib\\site-packages\\sklearn\\linear_model\\logistic.py:433: FutureWarning: Default solver will be changed to 'lbfgs' in 0.22. Specify a solver to silence this warning.\n",
      "  FutureWarning)\n",
      "C:\\Users\\jedrz\\Anaconda3\\lib\\site-packages\\sklearn\\linear_model\\logistic.py:433: FutureWarning: Default solver will be changed to 'lbfgs' in 0.22. Specify a solver to silence this warning.\n",
      "  FutureWarning)\n",
      "C:\\Users\\jedrz\\Anaconda3\\lib\\site-packages\\sklearn\\linear_model\\logistic.py:433: FutureWarning: Default solver will be changed to 'lbfgs' in 0.22. Specify a solver to silence this warning.\n",
      "  FutureWarning)\n",
      "C:\\Users\\jedrz\\Anaconda3\\lib\\site-packages\\sklearn\\linear_model\\logistic.py:433: FutureWarning: Default solver will be changed to 'lbfgs' in 0.22. Specify a solver to silence this warning.\n",
      "  FutureWarning)\n",
      "C:\\Users\\jedrz\\Anaconda3\\lib\\site-packages\\sklearn\\linear_model\\logistic.py:433: FutureWarning: Default solver will be changed to 'lbfgs' in 0.22. Specify a solver to silence this warning.\n",
      "  FutureWarning)\n",
      "C:\\Users\\jedrz\\Anaconda3\\lib\\site-packages\\sklearn\\linear_model\\logistic.py:433: FutureWarning: Default solver will be changed to 'lbfgs' in 0.22. Specify a solver to silence this warning.\n",
      "  FutureWarning)\n",
      "C:\\Users\\jedrz\\Anaconda3\\lib\\site-packages\\sklearn\\linear_model\\logistic.py:433: FutureWarning: Default solver will be changed to 'lbfgs' in 0.22. Specify a solver to silence this warning.\n",
      "  FutureWarning)\n"
     ]
    },
    {
     "name": "stdout",
     "output_type": "stream",
     "text": [
      "[False  True False  True  True  True  True  True  True False  True  True\n",
      "  True  True False False  True  True  True  True  True False]\n",
      "[5 1 3 1 1 1 1 1 1 6 1 1 1 1 4 7 1 1 1 1 1 2]\n",
      "0.9520494972931168\n",
      "0.9406565656565656\n"
     ]
    }
   ],
   "source": [
    "import sys\n",
    "import csv\n",
    "import numpy as np\n",
    "import pandas as pd\n",
    "from sklearn.preprocessing import LabelEncoder\n",
    "from sklearn.linear_model import LogisticRegression\n",
    "from sklearn.feature_selection import RFE\n",
    "\n",
    "train_data = pd.read_csv('train/train.tsv', sep='\\t', header=None)\n",
    "dev_data = pd.read_csv('dev-0/in.tsv', sep='\\t', header=None)\n",
    "test_data = pd.read_csv('test-A/in.tsv', sep='\\t', header=None)\n",
    "test_results = pd.read_csv('test-A/out.tsv', sep='\\t', header=None)\n",
    "dev_expected = pd.read_csv('dev-0/expected.tsv', sep='\\t', header=None)\n",
    "\n",
    "colnames = ['ep','cshape', 'csurface','ccolor','bruises','odor','gattach','gspacing','gzise','gcolor','sshape','sroot','ssaring','ssbring','scaring]','scbring','vtype','vcolor','rnumber','rtype','spcolor','popul','hab']\n",
    "train_data.columns = colnames\n",
    "\n",
    "#%matplotlib inline\n",
    "#pd.crosstab(train_data.scbring,train_data.ep).plot(kind='bar', stacked=True)\n",
    "\n",
    "\n",
    "lb = LabelEncoder()\n",
    "\n",
    "for i in train_data:\n",
    "    train_data[i] = lb.fit_transform(train_data[i])\n",
    "for i in dev_data:\n",
    "    dev_data[i] = lb.fit_transform(dev_data[i])\n",
    "for i in test_data:\n",
    "    test_data[i] = lb.fit_transform(test_data[i])\n",
    "    \n",
    "train_data.to_csv('label.csv')\n",
    "\n",
    "train_features = train_data.loc[: , 'cshape':'hab']\n",
    "train_result = train_data.loc[: , 'ep']\n",
    "\n",
    "model = LogisticRegression()\n",
    "rfe = RFE(model, 16)\n",
    "model = rfe.fit(train_features, train_result)\n",
    "print(rfe.support_)\n",
    "print(rfe.ranking_)\n",
    "print(rfe.score(train_features, train_result))\n",
    "\n",
    "dev_output = rfe.predict(dev_data)\n",
    "dev_output = ['e' if x==0 else 'p' for x in dev_output]\n",
    "test_output = rfe.predict(test_data)\n",
    "test_output = ['e' if x==0 else 'p' for x in test_output]\n",
    "\n",
    "# Counting percentage of correct predictionsfor dev-0\n",
    "dev_expected = dev_expected[0].values.tolist()\n",
    "dev_evaluation = pd.DataFrame(np.column_stack([dev_output, dev_expected]), \n",
    "                               columns=['predicted', 'actual'])\n",
    "good = 0\n",
    "for index, row in dev_evaluation.iterrows():\n",
    "    if row['predicted'] == row['actual']:\n",
    "        good+=1\n",
    "print(good/len(dev_evaluation))\n",
    "\n",
    "# Saving files\n",
    "with open('./test-A/out.tsv', 'w') as output:\n",
    "  for r in test_output:\n",
    "      output.write(str(r) + '\\n')\n",
    "        \n",
    "with open('./dev-0/out.tsv', 'w') as output:\n",
    "  for r in dev_output:\n",
    "      output.write(str(r) + '\\n')\n"
   ]
  },
  {
   "cell_type": "code",
   "execution_count": null,
   "metadata": {},
   "outputs": [],
   "source": []
  }
 ],
 "metadata": {
  "kernelspec": {
   "display_name": "Python 3",
   "language": "python",
   "name": "python3"
  },
  "language_info": {
   "codemirror_mode": {
    "name": "ipython",
    "version": 3
   },
   "file_extension": ".py",
   "mimetype": "text/x-python",
   "name": "python",
   "nbconvert_exporter": "python",
   "pygments_lexer": "ipython3",
   "version": "3.7.1"
  }
 },
 "nbformat": 4,
 "nbformat_minor": 2
}
