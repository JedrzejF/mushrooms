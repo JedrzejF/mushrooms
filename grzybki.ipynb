{
 "cells": [
  {
   "cell_type": "code",
   "execution_count": 12,
   "metadata": {},
   "outputs": [
    {
     "name": "stdout",
     "output_type": "stream",
     "text": [
      "0.9242424242424242\n"
     ]
    }
   ],
   "source": [
    "import sys\n",
    "import csv\n",
    "import numpy as np\n",
    "import pandas as pd\n",
    "from sklearn.preprocessing import LabelEncoder\n",
    "from sklearn.naive_bayes import GaussianNB\n",
    "\n",
    "train_data = pd.read_csv('train/train.tsv', sep='\\t', header=None)\n",
    "dev_data = pd.read_csv('dev-0/in.tsv', sep='\\t', header=None)\n",
    "test_data = pd.read_csv('test-A/in.tsv', sep='\\t', header=None)\n",
    "\n",
    "train_data = train_data.drop(train_data.columns[[1, 10, 15, 16]], axis=1)\n",
    "dev_data = dev_data.drop(dev_data.columns[[0, 9, 14, 15]], axis=1)\n",
    "test_data = test_data.drop(test_data.columns[[0, 9, 14, 15]], axis=1)\n",
    "\n",
    "dev_expected = pd.read_csv('dev-0/expected.tsv', sep='\\t', header=None)\n",
    "\n",
    "colnames = ['ep','csurface','ccolor','bruises','odor','gattach','gspacing','gzise','gcolor',\n",
    "            'sroot','ssaring','ssbring','scaring','vcolor','rnumber','rtype','spcolor','popul','hab']\n",
    "train_data.columns = colnames\n",
    "\n",
    "lb = LabelEncoder()\n",
    "\n",
    "for i in train_data:\n",
    "    train_data[i] = lb.fit_transform(train_data[i])\n",
    "for i in dev_data:\n",
    "    dev_data[i] = lb.fit_transform(dev_data[i])\n",
    "for i in test_data:\n",
    "    test_data[i] = lb.fit_transform(test_data[i])\n",
    "    \n",
    "train_data.to_csv('label.csv')\n",
    "\n",
    "train_features = train_data.loc[: , 'csurface':'hab']\n",
    "train_result = train_data.loc[: , 'ep']\n",
    "\n",
    "model = GaussianNB()\n",
    "model = model.fit(train_features, train_result)\n",
    "\n",
    "dev_output = model.predict(dev_data)\n",
    "dev_output = ['e' if x==0 else 'p' for x in dev_output]\n",
    "test_output = model.predict(test_data)\n",
    "test_output = ['e' if x==0 else 'p' for x in test_output]\n",
    "\n",
    "# Counting percentage of correct predictionsfor dev-0\n",
    "dev_expected = dev_expected[0].values.tolist()\n",
    "dev_evaluation = pd.DataFrame(np.column_stack([dev_output, dev_expected]), \n",
    "                               columns=['predicted', 'actual'])\n",
    "good = 0\n",
    "for index, row in dev_evaluation.iterrows():\n",
    "    if row['predicted'] == row['actual']:\n",
    "        good+=1\n",
    "print(good/len(dev_evaluation))\n",
    "\n",
    "# Saving files\n",
    "with open('./test-A/out.tsv', 'w') as output:\n",
    "  for r in test_output:\n",
    "      output.write(str(r) + '\\n')\n",
    "        \n",
    "with open('./dev-0/out.tsv', 'w') as output:\n",
    "  for r in dev_output:\n",
    "      output.write(str(r) + '\\n')"
   ]
  },
  {
   "cell_type": "code",
   "execution_count": 9,
   "metadata": {},
   "outputs": [],
   "source": []
  }
 ],
 "metadata": {
  "kernelspec": {
   "display_name": "Python 3",
   "language": "python",
   "name": "python3"
  },
  "language_info": {
   "codemirror_mode": {
    "name": "ipython",
    "version": 3
   },
   "file_extension": ".py",
   "mimetype": "text/x-python",
   "name": "python",
   "nbconvert_exporter": "python",
   "pygments_lexer": "ipython3",
   "version": "3.6.7"
  }
 },
 "nbformat": 4,
 "nbformat_minor": 2
}
